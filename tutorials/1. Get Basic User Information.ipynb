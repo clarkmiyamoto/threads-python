{
 "cells": [
  {
   "cell_type": "code",
   "execution_count": 1,
   "metadata": {},
   "outputs": [],
   "source": [
    "%load_ext autoreload\n",
    "%autoreload 2"
   ]
  },
  {
   "cell_type": "markdown",
   "metadata": {},
   "source": [
    "# Getting Basic User Information\n",
    "\n",
    "In this tutorial, I show you how to scrape user information with only a `username`."
   ]
  },
  {
   "cell_type": "code",
   "execution_count": 2,
   "metadata": {},
   "outputs": [],
   "source": [
    "import threads_scrape as threads"
   ]
  },
  {
   "cell_type": "markdown",
   "metadata": {},
   "source": [
    "# `Profile` class\n",
    "\n",
    "We'll mainly be working w/ the `threads.Porfile` class."
   ]
  },
  {
   "cell_type": "code",
   "execution_count": 13,
   "metadata": {},
   "outputs": [
    {
     "data": {
      "text/plain": [
       "<threads_scrape.profile.Profile at 0x7f8f3859b340>"
      ]
     },
     "execution_count": 13,
     "metadata": {},
     "output_type": "execute_result"
    }
   ],
   "source": [
    "profile = threads.Profile(username=\"clarkmiyamoto\")\n",
    "profile"
   ]
  },
  {
   "cell_type": "code",
   "execution_count": 4,
   "metadata": {},
   "outputs": [
    {
     "name": "stdout",
     "output_type": "stream",
     "text": [
      "clarkmiyamoto\n",
      "1035181405\n",
      "https://www.threads.net/@clarkmiyamoto \n",
      "\n",
      "Clark Shoji Miyamoto\n",
      "PhD Student @ NYU & Santa Fe\n",
      "[] \n",
      "\n",
      "106 \n",
      "\n",
      "False\n",
      "False\n"
     ]
    }
   ],
   "source": [
    "print(profile.username)\n",
    "print(profile.user_id)\n",
    "print(profile.url, '\\n')\n",
    "\n",
    "print(profile.full_name)\n",
    "print(profile.biography)\n",
    "print(profile.bio_links, '\\n')\n",
    "\n",
    "print(profile.follower_count, '\\n')\n",
    "\n",
    "print(profile.is_private)\n",
    "print(profile.is_verified)"
   ]
  },
  {
   "cell_type": "markdown",
   "metadata": {},
   "source": [
    "# Testing Below Here"
   ]
  },
  {
   "cell_type": "code",
   "execution_count": 5,
   "metadata": {},
   "outputs": [],
   "source": [
    "username = \"clarkmiyamoto\"\n",
    "user_id = 1035181405\n",
    "\n",
    "username2 = \"alllywei\"\n",
    "user_id2 = \"2038964338\""
   ]
  },
  {
   "cell_type": "code",
   "execution_count": 6,
   "metadata": {},
   "outputs": [],
   "source": [
    "import requests\n",
    "\n",
    "def _fetch_post_data(user_id: int) -> dict:\n",
    "    url = \"https://www.threads.net/api/graphql\"\n",
    "\n",
    "    payload = f'av=0&__user=0&__a=1&__req=3&__hs=19545.HYP%3Abarcelona_web_pkg.2.1..0.0&dpr=1&__ccg=UNKNOWN&__rev=1007803492&__s=vetqp2%3Aa9nm1l%3Aipllym&__hsi=7253019639752635359&__dyn=7xeUmwlEnwn8K2WnFw9-2i5U4e0yoW3q32360CEbo1nEhw2nVE4W0om78b87C0yE465o-cw5Mx62G3i0Bo7O2l0Fwqo31wnEfovwRwlE-U2zxe2Gew9O22362W2K0zK5o4q0GpovU1aUbodEGdwtU2ewbS1LwTwNwLw8O1pwr82gxC&__csr=gA-FDy4Bg01lA8lU4u7orx-17z8d329ox0jm8waG22j41K444S7EiwjU8o622Mv60h81045k310VyTo6WA3Mf3Aho0Fc10zIqEu1QgE21zUWzw&__comet_req=29&lsd=4N5vMS4a6YJ7U4Ovuku-We&jazoest=21790&__spin_r=1007803492&__spin_b=trunk&__spin_t=1688725231&__jssesw=1&fb_api_caller_class=RelayModern&fb_api_req_friendly_name=BarcelonaProfileThreadsTabQuery&variables=%7B%22userID%22%3A%22{user_id}%22%7D&server_timestamps=true&doc_id=6232751443445612'\n",
    "    headers = {\n",
    "      'authority': 'www.threads.net',\n",
    "      'origin': 'https://www.threads.net',\n",
    "      'sec-fetch-site': 'same-origin',\n",
    "      'user-agent': 'Mozilla/5.0 (Macintosh; Intel Mac OS X 10_15_7) AppleWebKit/537.36 (KHTML, like Gecko) Chrome/114.0.0.0 Safari/537.36',\n",
    "      'x-fb-lsd': '4N5vMS4a6YJ7U4Ovuku-We',\n",
    "      'x-ig-app-id': '238260118697367',\n",
    "      'Content-Type': 'application/x-www-form-urlencoded'\n",
    "    }\n",
    "\n",
    "    response = requests.request(\"POST\", url, headers=headers, data=payload)\n",
    "\n",
    "    return response.json()"
   ]
  },
  {
   "cell_type": "code",
   "execution_count": 7,
   "metadata": {},
   "outputs": [],
   "source": [
    "import requests\n",
    "\n",
    "def _fetch_profile_data(user_id: int) -> dict:\n",
    "\n",
    "    url = \"https://www.threads.net/api/graphql\"\n",
    "\n",
    "    payload = f'av=0&__user=0&__a=1&__req=1&__hs=19545.HYP%3Abarcelona_web_pkg.2.1..0.0&dpr=1&__ccg=UNKNOWN&__rev=1007803646&__s=cqfjsw%3Aa9nm1l%3A3td08l&__hsi=7253027684343748032&__dyn=7xeUmwlEnwn8K2WnFw9-2i5U4e0yoW3q32360CEbo1nEhw2nVE4W0om78b87C0yE465o-cw5Mx62G3i0Bo7O2l0Fwqo31wnEfovwRwlE-U2zxe2Gew9O22362W2K0zK5o4q0GpovU1aUbodEGdwtU2ewbS1LwTwNwLw8O1pwr82gxC&__csr=gB-FDy4Bg01lA8lU4u7orx-17z8d329ox0jm8waG22j41K444S7EiwjU8o622Mv60h81045k310VyTo6WA3Mf3Aho0Fc10zIqEu1QgE21zUWzw&__comet_req=29&lsd=W5pozrGtZMsjEHZTFEcE6K&jazoest=21925&__spin_r=1007803646&__spin_b=trunk&__spin_t=1688727104&__jssesw=2&fb_api_caller_class=RelayModern&fb_api_req_friendly_name=BarcelonaProfileRootQuery&variables=%7B%22userID%22%3A%22{user_id}%22%7D&server_timestamps=true&doc_id=23996318473300828'\n",
    "    headers = {\n",
    "      'authority': 'www.threads.net',\n",
    "      'origin': 'https://www.threads.net',\n",
    "      'sec-fetch-site': 'same-origin',\n",
    "      'user-agent': 'Mozilla/5.0 (Macintosh; Intel Mac OS X 10_15_7) AppleWebKit/537.36 (KHTML, like Gecko) Chrome/114.0.0.0 Safari/537.36',\n",
    "      'x-fb-lsd': 'W5pozrGtZMsjEHZTFEcE6K',\n",
    "      'x-ig-app-id': '1412234116260832',\n",
    "      'Content-Type': 'application/x-www-form-urlencoded'\n",
    "    }\n",
    "\n",
    "    response = requests.request(\"POST\", url, headers=headers, data=payload)\n",
    "\n",
    "    return response.json()"
   ]
  },
  {
   "cell_type": "code",
   "execution_count": 8,
   "metadata": {},
   "outputs": [],
   "source": [
    "payload_profile = f'av=0&__user=0&__a=1&     __req=1      &__hs=19545.HYP%3Abarcelona_web_pkg.2.1..0.0&dpr=1&__ccg=UNKNOWN         &__rev=1007803646       &__s=cqfjsw%3Aa9nm1l%3A3td08l        &__hsi=7253027684343748032       &__dyn=7xeUmwlEnwn8K2WnFw9-2i5U4e0yoW3q32360CEbo1nEhw2nVE4W0om78b87C0yE465o-cw5Mx62G3i0Bo7O2l0Fwqo31wnEfovwRwlE-U2zxe2Gew9O22362W2K0zK5o4q0GpovU1aUbodEGdwtU2ewbS1LwTwNwLw8O1pwr82gxC&__csr=gB-FDy4Bg01lA8lU4u7orx-17z8d329ox0jm8waG22j41K444S7EiwjU8o622Mv60h81045k310VyTo6WA3Mf3Aho0Fc10zIqEu1QgE21zUWzw&__comet_req=29&   lsd=W5pozrGtZMsjEHZTFEcE6K    &jazoest=21925     &__spin_r=1007803646      &__spin_b=trunk&__spin_t=1688727104      &__jssesw=2     &fb_api_caller_class=RelayModern&      fb_api_req_friendly_name=BarcelonaProfileRootQuery                &variables=%7B%22userID%22%3A%22{user_id}%22%7D&server_timestamps=true&doc_id=23996318473300828'\n",
    "payload_posts   = f'av=0&__user=0&__a=1&     __req=3      &__hs=19545.HYP%3Abarcelona_web_pkg.2.1..0.0&dpr=1&__ccg=UNKNOWN         &__rev=1007803492       &__s=vetqp2%3Aa9nm1l%3Aipllym        &__hsi=7253019639752635359       &__dyn=7xeUmwlEnwn8K2WnFw9-2i5U4e0yoW3q32360CEbo1nEhw2nVE4W0om78b87C0yE465o-cw5Mx62G3i0Bo7O2l0Fwqo31wnEfovwRwlE-U2zxe2Gew9O22362W2K0zK5o4q0GpovU1aUbodEGdwtU2ewbS1LwTwNwLw8O1pwr82gxC&__csr=gA-FDy4Bg01lA8lU4u7orx-17z8d329ox0jm8waG22j41K444S7EiwjU8o622Mv60h81045k310VyTo6WA3Mf3Aho0Fc10zIqEu1QgE21zUWzw&__comet_req=29&   lsd=4N5vMS4a6YJ7U4Ovuku-We    &jazoest=21790     &__spin_r=1007803492      &__spin_b=trunk&__spin_t=1688725231      &__jssesw=1     &fb_api_caller_class=RelayModern&      fb_api_req_friendly_name=BarcelonaProfileThreadsTabQuery          &variables=%7B%22userID%22%3A%22{user_id}%22%7D&server_timestamps=true&doc_id=6232751443445612'\n"
   ]
  },
  {
   "cell_type": "code",
   "execution_count": 9,
   "metadata": {},
   "outputs": [
    {
     "data": {
      "text/plain": [
       "{'data': {'userData': {'user': {'is_private': True,\n",
       "    'profile_pic_url': 'https://scontent.cdninstagram.com/v/t51.2885-19/358012326_1898027420576902_6246703687958573584_n.jpg?stp=dst-jpg_s150x150&_nc_ht=scontent.cdninstagram.com&_nc_cat=110&_nc_ohc=EKhS6na1KNAAX_Fptik&edm=APs17CUBAAAA&ccb=7-5&oh=00_AfA4Dg_t3bw_96nee23T4jqsP0u0l-sGnC4eEJB1nHF3Og&oe=64ACF15D&_nc_sid=10d13b',\n",
       "    'username': 'brytah',\n",
       "    'hd_profile_pic_versions': [{'height': 320,\n",
       "      'url': 'https://scontent.cdninstagram.com/v/t51.2885-19/358012326_1898027420576902_6246703687958573584_n.jpg?stp=dst-jpg_s320x320&_nc_ht=scontent.cdninstagram.com&_nc_cat=110&_nc_ohc=EKhS6na1KNAAX_Fptik&edm=APs17CUBAAAA&ccb=7-5&oh=00_AfCI48EOd6XzD5NUuEX1H3lWyDupDMWQD52TuBOtlG5QAw&oe=64ACF15D&_nc_sid=10d13b',\n",
       "      'width': 320},\n",
       "     {'height': 640,\n",
       "      'url': 'https://scontent.cdninstagram.com/v/t51.2885-19/358012326_1898027420576902_6246703687958573584_n.jpg?stp=dst-jpg_s640x640&_nc_ht=scontent.cdninstagram.com&_nc_cat=110&_nc_ohc=EKhS6na1KNAAX_Fptik&edm=APs17CUBAAAA&ccb=7-5&oh=00_AfAbEwTU6_E7UQ9Ay7qdtDaz507AQlH3XGC2qSpm6Wswjg&oe=64ACF15D&_nc_sid=10d13b',\n",
       "      'width': 640}],\n",
       "    'is_verified': False,\n",
       "    'biography': '',\n",
       "    'biography_with_entities': None,\n",
       "    'follower_count': 74,\n",
       "    'profile_context_facepile_users': None,\n",
       "    'bio_links': [{'url': ''}],\n",
       "    'pk': '461851430',\n",
       "    'full_name': 'bry',\n",
       "    'id': None}}},\n",
       " 'extensions': {'is_final': True}}"
      ]
     },
     "execution_count": 9,
     "metadata": {},
     "output_type": "execute_result"
    }
   ],
   "source": [
    "_fetch_profile_data(461851430)"
   ]
  },
  {
   "cell_type": "code",
   "execution_count": null,
   "metadata": {},
   "outputs": [],
   "source": []
  }
 ],
 "metadata": {
  "kernelspec": {
   "display_name": "Python 3 (ipykernel)",
   "language": "python",
   "name": "python3"
  },
  "language_info": {
   "codemirror_mode": {
    "name": "ipython",
    "version": 3
   },
   "file_extension": ".py",
   "mimetype": "text/x-python",
   "name": "python",
   "nbconvert_exporter": "python",
   "pygments_lexer": "ipython3",
   "version": "3.10.4"
  }
 },
 "nbformat": 4,
 "nbformat_minor": 2
}
